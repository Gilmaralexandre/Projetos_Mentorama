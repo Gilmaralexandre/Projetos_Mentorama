{
 "cells": [
  {
   "cell_type": "code",
   "execution_count": 21,
   "id": "b9aff728",
   "metadata": {},
   "outputs": [],
   "source": [
    "from re import findall, search"
   ]
  },
  {
   "cell_type": "code",
   "execution_count": 22,
   "id": "8e7763ad",
   "metadata": {},
   "outputs": [],
   "source": [
    "#exemplo\n",
    "texto = \"Estamos estudando pithon no curso python pro da Mentorama\""
   ]
  },
  {
   "cell_type": "code",
   "execution_count": 23,
   "id": "9c1aece4",
   "metadata": {},
   "outputs": [
    {
     "data": {
      "text/plain": [
       "['py']"
      ]
     },
     "execution_count": 23,
     "metadata": {},
     "output_type": "execute_result"
    }
   ],
   "source": [
    "#função findall retorna elemento informado\n",
    "findall(\"py\", texto)"
   ]
  },
  {
   "cell_type": "code",
   "execution_count": 24,
   "id": "bd43ef37",
   "metadata": {},
   "outputs": [
    {
     "data": {
      "text/plain": [
       "12"
      ]
     },
     "execution_count": 24,
     "metadata": {},
     "output_type": "execute_result"
    }
   ],
   "source": [
    "search(\"da\",texto).start()"
   ]
  },
  {
   "cell_type": "code",
   "execution_count": 25,
   "id": "989fa866",
   "metadata": {},
   "outputs": [
    {
     "data": {
      "text/plain": [
       "12"
      ]
     },
     "execution_count": 25,
     "metadata": {},
     "output_type": "execute_result"
    }
   ],
   "source": [
    "texto.index(\"da\")"
   ]
  },
  {
   "cell_type": "markdown",
   "id": "3c249042",
   "metadata": {},
   "source": [
    "Podemos retirar caracteres especias dos textos"
   ]
  },
  {
   "cell_type": "code",
   "execution_count": 26,
   "id": "692042c5",
   "metadata": {},
   "outputs": [],
   "source": [
    "caract = \"Estamos @ estudando #Python no curso 1 Python Pro da Mentorama\""
   ]
  },
  {
   "cell_type": "code",
   "execution_count": 27,
   "id": "2b9d866e",
   "metadata": {},
   "outputs": [
    {
     "data": {
      "text/plain": [
       "['Estamos',\n",
       " 'estudando',\n",
       " 'Python',\n",
       " 'no',\n",
       " 'curso',\n",
       " '1',\n",
       " 'Python',\n",
       " 'Pro',\n",
       " 'da',\n",
       " 'Mentorama']"
      ]
     },
     "execution_count": 27,
     "metadata": {},
     "output_type": "execute_result"
    }
   ],
   "source": [
    "#utilizando o comando r de read para ler a frase e o comando w+ significa palavras\n",
    "palavras = findall(r\"\\w+\", caract)\n",
    "palavras"
   ]
  },
  {
   "cell_type": "code",
   "execution_count": 28,
   "id": "6ae881c9",
   "metadata": {},
   "outputs": [
    {
     "data": {
      "text/plain": [
       "'Estamos estudando Python no curso 1 Python Pro da Mentorama'"
      ]
     },
     "execution_count": 28,
     "metadata": {},
     "output_type": "execute_result"
    }
   ],
   "source": [
    "#Rejuntando o texto\n",
    "\" \".join(palavras)"
   ]
  },
  {
   "cell_type": "code",
   "execution_count": 29,
   "id": "e2c66205",
   "metadata": {},
   "outputs": [
    {
     "data": {
      "text/plain": [
       "['pithon', 'python']"
      ]
     },
     "execution_count": 29,
     "metadata": {},
     "output_type": "execute_result"
    }
   ],
   "source": [
    "#localizando a palavra com possiveis alterações\n",
    "findall(\"p.thon\", texto)"
   ]
  },
  {
   "cell_type": "markdown",
   "id": "1f952a66",
   "metadata": {},
   "source": [
    "Podemos buscar pela ocorrencia inicial da palavra"
   ]
  },
  {
   "cell_type": "code",
   "execution_count": 31,
   "id": "92379e99",
   "metadata": {},
   "outputs": [
    {
     "data": {
      "text/plain": [
       "['py', 'py', 'py']"
      ]
     },
     "execution_count": 31,
     "metadata": {},
     "output_type": "execute_result"
    }
   ],
   "source": [
    "padrao = r\"\\bpy\"\n",
    "texto = \"python é uma linguagem pythonica e os seus arquivos possuem a extensão py.\"\n",
    "\n",
    "findall(padrao, texto)"
   ]
  },
  {
   "cell_type": "code",
   "execution_count": null,
   "id": "55d7f528",
   "metadata": {},
   "outputs": [],
   "source": []
  }
 ],
 "metadata": {
  "kernelspec": {
   "display_name": "Python 3 (ipykernel)",
   "language": "python",
   "name": "python3"
  },
  "language_info": {
   "codemirror_mode": {
    "name": "ipython",
    "version": 3
   },
   "file_extension": ".py",
   "mimetype": "text/x-python",
   "name": "python",
   "nbconvert_exporter": "python",
   "pygments_lexer": "ipython3",
   "version": "3.9.7"
  }
 },
 "nbformat": 4,
 "nbformat_minor": 5
}
