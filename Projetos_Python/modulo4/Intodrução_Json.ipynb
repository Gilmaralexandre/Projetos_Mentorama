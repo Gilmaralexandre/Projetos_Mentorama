{
 "cells": [
  {
   "cell_type": "code",
   "execution_count": 2,
   "id": "baf958a9",
   "metadata": {},
   "outputs": [],
   "source": [
    "from json import dump, dumps, loads, load"
   ]
  },
  {
   "cell_type": "code",
   "execution_count": 3,
   "id": "f35b9b63",
   "metadata": {},
   "outputs": [],
   "source": [
    "#Criando exemplo\n",
    "json_exemplo = {\n",
    "    \"chave1\":\"valor1\",\n",
    "    \"chave2\":\"valor2\"\n",
    "}"
   ]
  },
  {
   "cell_type": "markdown",
   "id": "4ea573d7",
   "metadata": {},
   "source": [
    "Para fazer a conversão do formato dicionario para string usamos a função dumps"
   ]
  },
  {
   "cell_type": "code",
   "execution_count": 5,
   "id": "8f54b589",
   "metadata": {},
   "outputs": [
    {
     "data": {
      "text/plain": [
       "'{\"chave1\": \"valor1\", \"chave2\": \"valor2\"}'"
      ]
     },
     "execution_count": 5,
     "metadata": {},
     "output_type": "execute_result"
    }
   ],
   "source": [
    "string_json = dumps(json_exemplo)\n",
    "string_json"
   ]
  },
  {
   "cell_type": "markdown",
   "id": "94f59895",
   "metadata": {},
   "source": [
    "Para fazer a conversão de string para dicionario usamos a função loads"
   ]
  },
  {
   "cell_type": "code",
   "execution_count": 7,
   "id": "6abcc1f8",
   "metadata": {},
   "outputs": [
    {
     "data": {
      "text/plain": [
       "{'chave1': 'valor1', 'chave2': 'valor2'}"
      ]
     },
     "execution_count": 7,
     "metadata": {},
     "output_type": "execute_result"
    }
   ],
   "source": [
    "json_str2dict = loads(string_json)\n",
    "json_str2dict"
   ]
  },
  {
   "cell_type": "markdown",
   "id": "54a6923b",
   "metadata": {},
   "source": [
    "Para salvar um arquivo no formato json usamos a função dump"
   ]
  },
  {
   "cell_type": "code",
   "execution_count": 8,
   "id": "cbf0a043",
   "metadata": {},
   "outputs": [],
   "source": [
    "with open(\"json_exemplo.json\", \"w\")as file:\n",
    "    dump(json_str2dict, file)"
   ]
  },
  {
   "cell_type": "markdown",
   "id": "56252927",
   "metadata": {},
   "source": [
    "Para ler um arquivo json utilizamos a função load"
   ]
  },
  {
   "cell_type": "code",
   "execution_count": 11,
   "id": "ea735e16",
   "metadata": {},
   "outputs": [
    {
     "data": {
      "text/plain": [
       "{'chave1': 'valor1', 'chave2': 'valor2'}"
      ]
     },
     "execution_count": 11,
     "metadata": {},
     "output_type": "execute_result"
    }
   ],
   "source": [
    "with open(\"json_exemplo.json\")as file:\n",
    "    leitura_json = load(file)\n",
    "    \n",
    "leitura_json"
   ]
  },
  {
   "cell_type": "code",
   "execution_count": null,
   "id": "0b323f0f",
   "metadata": {},
   "outputs": [],
   "source": []
  }
 ],
 "metadata": {
  "kernelspec": {
   "display_name": "Python 3 (ipykernel)",
   "language": "python",
   "name": "python3"
  },
  "language_info": {
   "codemirror_mode": {
    "name": "ipython",
    "version": 3
   },
   "file_extension": ".py",
   "mimetype": "text/x-python",
   "name": "python",
   "nbconvert_exporter": "python",
   "pygments_lexer": "ipython3",
   "version": "3.9.7"
  }
 },
 "nbformat": 4,
 "nbformat_minor": 5
}
