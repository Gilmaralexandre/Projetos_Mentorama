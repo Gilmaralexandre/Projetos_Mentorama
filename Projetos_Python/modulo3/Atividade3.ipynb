{
 "cells": [
  {
   "cell_type": "markdown",
   "id": "ac8b083e",
   "metadata": {},
   "source": [
    "\n",
    "\n",
    "\n",
    "!pip install scrapy"
   ]
  },
  {
   "cell_type": "code",
   "execution_count": 2,
   "id": "69bd5fb3",
   "metadata": {},
   "outputs": [],
   "source": [
    "#importando método get\n",
    "from requests import get\n",
    "resposta = get('https://pt.wikipedia.org/wiki/Python')"
   ]
  },
  {
   "cell_type": "code",
   "execution_count": 3,
   "id": "fbb97f8a",
   "metadata": {},
   "outputs": [
    {
     "data": {
      "text/plain": [
       "True"
      ]
     },
     "execution_count": 3,
     "metadata": {},
     "output_type": "execute_result"
    }
   ],
   "source": [
    "resposta.ok"
   ]
  },
  {
   "cell_type": "markdown",
   "id": "e0956756",
   "metadata": {},
   "source": [
    "!pip install bs4"
   ]
  },
  {
   "cell_type": "markdown",
   "id": "616093c8",
   "metadata": {},
   "source": [
    "!pip install html5lib"
   ]
  },
  {
   "cell_type": "code",
   "execution_count": 4,
   "id": "e2b90695",
   "metadata": {},
   "outputs": [],
   "source": [
    "from bs4 import BeautifulSoup"
   ]
  },
  {
   "cell_type": "code",
   "execution_count": 5,
   "id": "502c90a7",
   "metadata": {},
   "outputs": [],
   "source": [
    "tags = BeautifulSoup(resposta.text, \"html5lib\")"
   ]
  },
  {
   "cell_type": "code",
   "execution_count": 6,
   "id": "6b7db93d",
   "metadata": {},
   "outputs": [
    {
     "data": {
      "text/plain": [
       "'Python – Wikipédia, a enciclopédia livre'"
      ]
     },
     "execution_count": 6,
     "metadata": {},
     "output_type": "execute_result"
    }
   ],
   "source": [
    "title = tags.find(\"title\") #Informando o titulo da pagina\n",
    "title.text                "
   ]
  },
  {
   "cell_type": "code",
   "execution_count": 12,
   "id": "72488477",
   "metadata": {},
   "outputs": [
    {
     "name": "stdout",
     "output_type": "stream",
     "text": [
      "Página Principal: Python – Wikipédia, a enciclopédia livre\n"
     ]
    }
   ],
   "source": [
    "print(\"Página Principal:\",title.text)"
   ]
  },
  {
   "cell_type": "code",
   "execution_count": 7,
   "id": "5664db64",
   "metadata": {},
   "outputs": [
    {
     "data": {
      "text/plain": [
       "['Multiparadigma',\n",
       " 'Versão em teste',\n",
       " 'Página oficial',\n",
       " 'linguagem de programação de alto nível',\n",
       " 'biblioteca',\n",
       " 'alto nível',\n",
       " 'réptil',\n",
       " 'píton',\n",
       " 'tratar exceções',\n",
       " 'sistema operacional',\n",
       " 'herança',\n",
       " 'funções',\n",
       " 'encapsulamento',\n",
       " 'DARPA',\n",
       " 'list comprehension',\n",
       " 'GNU GPL',\n",
       " 'generator',\n",
       " 'analisador sintático',\n",
       " 'SAX',\n",
       " 'E/S',\n",
       " 'OpenOffice',\n",
       " 'procedimentos armazenados',\n",
       " 'sistema gerenciador de banco de dados',\n",
       " 'easter egg',\n",
       " 'sub-rotinas',\n",
       " 'Booleano',\n",
       " 'Ponto flutuante',\n",
       " 'Tupla',\n",
       " 'compilação',\n",
       " 'IDE',\n",
       " 'núcleo',\n",
       " 'programação orientada a objeto',\n",
       " 'polimorfismo',\n",
       " 'herança',\n",
       " 'encapsulamento',\n",
       " 'compreensão de listas',\n",
       " 'cálculo Lambda',\n",
       " 'geradores',\n",
       " 'tratamento de exceções',\n",
       " 'threads',\n",
       " 'concorrência',\n",
       " 'biblioteca',\n",
       " 'biblioteca Boost',\n",
       " 'API',\n",
       " 'plataformas',\n",
       " 'MacOS X',\n",
       " 'Windows',\n",
       " 'palmtops',\n",
       " 'sistema operacional',\n",
       " 'C89',\n",
       " 'Unix-like',\n",
       " 'threads',\n",
       " 'Plataforma Java',\n",
       " 'Palm',\n",
       " 'livre',\n",
       " 'código fonte',\n",
       " 'bibliotecas de funções especializadas',\n",
       " 'web',\n",
       " 'Pylons',\n",
       " 'web',\n",
       " 'TurboGears',\n",
       " 'SSH',\n",
       " 'sistemas distribuídos',\n",
       " 'computação distribuída',\n",
       " 'ZODB',\n",
       " 'persistência',\n",
       " 'bibliotecas',\n",
       " 'GUI',\n",
       " 'GTK+',\n",
       " 'Plataforma',\n",
       " 'Licença',\n",
       " 'Java',\n",
       " 'GTK2',\n",
       " 'Windows',\n",
       " 'VS2008',\n",
       " 'Java',\n",
       " 'Windows',\n",
       " 'crawlers',\n",
       " 'Maya',\n",
       " 'Wikimedia',\n",
       " 'Sobre a Wikipédia']"
      ]
     },
     "execution_count": 7,
     "metadata": {},
     "output_type": "execute_result"
    }
   ],
   "source": [
    "#utilizando a tag \"a\" e filtrando pela classe \"mw-redirect\n",
    "links = tags.find_all(\"a\", attrs={\"class\":\"mw-redirect\"})\n",
    "[a.text for a in links]"
   ]
  },
  {
   "cell_type": "markdown",
   "id": "84fb367b",
   "metadata": {},
   "source": [
    "subtitles = tags.find_all(\"a\", attrs = {\"a\": \"title\"})\n",
    "[a.text for a in subtitles] "
   ]
  }
 ],
 "metadata": {
  "kernelspec": {
   "display_name": "Python 3 (ipykernel)",
   "language": "python",
   "name": "python3"
  },
  "language_info": {
   "codemirror_mode": {
    "name": "ipython",
    "version": 3
   },
   "file_extension": ".py",
   "mimetype": "text/x-python",
   "name": "python",
   "nbconvert_exporter": "python",
   "pygments_lexer": "ipython3",
   "version": "3.9.7"
  }
 },
 "nbformat": 4,
 "nbformat_minor": 5
}
